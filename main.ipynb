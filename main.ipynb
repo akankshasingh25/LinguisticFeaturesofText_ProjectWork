{
 "cells": [
  {
   "cell_type": "code",
   "execution_count": null,
   "metadata": {},
   "outputs": [],
   "source": [
    "# importing library\n",
    "import numpy as np\n",
    "import matplotlib as mpl\n",
    "import matplotlib.pyplot as plt\n",
    "import pandas as pd"
   ]
  },
  {
   "cell_type": "code",
   "execution_count": null,
   "metadata": {},
   "outputs": [],
   "source": [
    "# reading dataset\n",
    "df = pd.read_csv(r'C:\\Users\\akank\\Dropbox\\My PC (LAPTOP-NQ9H8NTJ)\\Documents\\Sem 8\\Project\\datasets\\brown\\brown.csv')\n",
    "\n",
    "df"
   ]
  },
  {
   "cell_type": "markdown",
   "metadata": {},
   "source": [
    "# 1. Data Preparation"
   ]
  },
  {
   "cell_type": "code",
   "execution_count": null,
   "metadata": {},
   "outputs": [],
   "source": [
    "plt.figure(figsize=(10, 3))\n",
    "df.groupby([df['label']]).size().sort_values(ascending=True).plot(kind='barh')\n",
    "plt.title('Brown')\n",
    "plt.xlabel('Number of texts')\n",
    "plt.ylabel('Types of texts')\n",
    "plt.show()"
   ]
  },
  {
   "cell_type": "code",
   "execution_count": null,
   "metadata": {},
   "outputs": [],
   "source": [
    "# dropping labels other than defined Fiction and Non-Fiction labels\n",
    "\n",
    "index = df[(df.label == 'religion') | (df.label == 'lore') | (df.label == 'editorial') | \n",
    "(df.label == 'humor') | (df.label == 'belles_lettres')].index\n",
    "\n",
    "df.drop(index, inplace = True)\n",
    "\n",
    "df"
   ]
  },
  {
   "cell_type": "code",
   "execution_count": null,
   "metadata": {},
   "outputs": [],
   "source": [
    "# changing labels to fiction_genre and non_fiction_genre\n",
    "\n",
    "df[\"label\"] = np.where(df[\"label\"] == ('fiction' or 'mystery' or 'romance' or 'adventure' or 'science_fiction'), \n",
    "                                        \"fiction_genre\", \"non_fiction_genre\")\n",
    "                                        \n",
    "df"
   ]
  },
  {
   "cell_type": "code",
   "execution_count": null,
   "metadata": {},
   "outputs": [],
   "source": [
    "# dropping paragraphs with sentences less than 5 or 6 (to deal with data imbalance)\n",
    "\n",
    "sent_count = df.groupby(['filename', 'para_id'], as_index =  False).size()\n",
    "print(sent_count)\n",
    "\n",
    "for i in range(len(sent_count)):\n",
    "    size = sent_count['size'].iloc[i]\n",
    "    if((size<5) or (size>6)):\n",
    "        doc = sent_count['filename'].iloc[i]\n",
    "        para = sent_count['para_id'].iloc[i]\n",
    "        index = df[(df['filename'] == doc) & (df['para_id'] == para)].index\n",
    "        df.drop(index, inplace = True)\n",
    "        \n",
    "df"
   ]
  },
  {
   "cell_type": "code",
   "execution_count": 16,
   "metadata": {},
   "outputs": [
    {
     "name": "stdout",
     "output_type": "stream",
     "text": [
      "['non_fiction_genre', 'non_fiction_genre', 'non_fiction_genre', 'non_fiction_genre', 'non_fiction_genre', 'non_fiction_genre', 'non_fiction_genre', 'non_fiction_genre', 'non_fiction_genre', 'non_fiction_genre', 'non_fiction_genre', 'non_fiction_genre', 'non_fiction_genre', 'non_fiction_genre', 'non_fiction_genre', 'non_fiction_genre', 'non_fiction_genre', 'non_fiction_genre', 'non_fiction_genre', 'non_fiction_genre', 'non_fiction_genre', 'non_fiction_genre', 'non_fiction_genre', 'non_fiction_genre', 'non_fiction_genre', 'non_fiction_genre', 'non_fiction_genre', 'non_fiction_genre', 'non_fiction_genre', 'non_fiction_genre', 'non_fiction_genre', 'non_fiction_genre', 'non_fiction_genre', 'non_fiction_genre', 'non_fiction_genre', 'non_fiction_genre', 'non_fiction_genre', 'non_fiction_genre', 'non_fiction_genre', 'non_fiction_genre', 'non_fiction_genre', 'non_fiction_genre', 'non_fiction_genre', 'non_fiction_genre', 'non_fiction_genre', 'non_fiction_genre', 'non_fiction_genre', 'non_fiction_genre', 'non_fiction_genre', 'non_fiction_genre', 'non_fiction_genre', 'non_fiction_genre', 'non_fiction_genre', 'non_fiction_genre', 'non_fiction_genre', 'non_fiction_genre', 'non_fiction_genre', 'non_fiction_genre', 'non_fiction_genre', 'non_fiction_genre', 'non_fiction_genre', 'non_fiction_genre', 'non_fiction_genre', 'non_fiction_genre', 'non_fiction_genre', 'non_fiction_genre', 'non_fiction_genre', 'non_fiction_genre', 'non_fiction_genre', 'non_fiction_genre', 'non_fiction_genre', 'non_fiction_genre', 'non_fiction_genre', 'non_fiction_genre', 'non_fiction_genre', 'non_fiction_genre', 'non_fiction_genre', 'non_fiction_genre', 'non_fiction_genre', 'non_fiction_genre', 'non_fiction_genre', 'non_fiction_genre', 'non_fiction_genre', 'non_fiction_genre', 'non_fiction_genre', 'non_fiction_genre', 'non_fiction_genre', 'non_fiction_genre', 'non_fiction_genre', 'non_fiction_genre', 'non_fiction_genre', 'non_fiction_genre', 'non_fiction_genre', 'non_fiction_genre', 'non_fiction_genre', 'non_fiction_genre', 'non_fiction_genre', 'non_fiction_genre', 'non_fiction_genre', 'non_fiction_genre', 'non_fiction_genre', 'non_fiction_genre', 'non_fiction_genre', 'non_fiction_genre', 'non_fiction_genre', 'non_fiction_genre', 'non_fiction_genre', 'non_fiction_genre', 'non_fiction_genre', 'non_fiction_genre', 'non_fiction_genre', 'non_fiction_genre', 'non_fiction_genre', 'non_fiction_genre', 'non_fiction_genre', 'non_fiction_genre', 'non_fiction_genre', 'non_fiction_genre', 'non_fiction_genre', 'non_fiction_genre', 'non_fiction_genre', 'non_fiction_genre', 'non_fiction_genre', 'non_fiction_genre', 'non_fiction_genre', 'non_fiction_genre', 'non_fiction_genre', 'non_fiction_genre', 'non_fiction_genre', 'non_fiction_genre', 'non_fiction_genre', 'non_fiction_genre', 'non_fiction_genre', 'non_fiction_genre', 'non_fiction_genre', 'non_fiction_genre', 'non_fiction_genre', 'non_fiction_genre', 'non_fiction_genre', 'non_fiction_genre', 'non_fiction_genre', 'non_fiction_genre', 'non_fiction_genre', 'non_fiction_genre', 'non_fiction_genre', 'non_fiction_genre', 'non_fiction_genre', 'non_fiction_genre', 'non_fiction_genre', 'non_fiction_genre', 'non_fiction_genre', 'non_fiction_genre', 'non_fiction_genre', 'non_fiction_genre', 'non_fiction_genre', 'non_fiction_genre', 'non_fiction_genre', 'non_fiction_genre', 'non_fiction_genre', 'non_fiction_genre', 'non_fiction_genre', 'non_fiction_genre', 'non_fiction_genre', 'non_fiction_genre', 'non_fiction_genre', 'non_fiction_genre', 'non_fiction_genre', 'non_fiction_genre', 'non_fiction_genre', 'non_fiction_genre', 'non_fiction_genre', 'non_fiction_genre', 'non_fiction_genre', 'non_fiction_genre', 'non_fiction_genre', 'non_fiction_genre', 'non_fiction_genre', 'non_fiction_genre', 'non_fiction_genre', 'non_fiction_genre', 'non_fiction_genre', 'non_fiction_genre', 'non_fiction_genre', 'non_fiction_genre', 'non_fiction_genre', 'non_fiction_genre', 'non_fiction_genre', 'non_fiction_genre', 'non_fiction_genre', 'non_fiction_genre', 'non_fiction_genre', 'non_fiction_genre', 'non_fiction_genre', 'non_fiction_genre', 'non_fiction_genre', 'non_fiction_genre', 'non_fiction_genre', 'non_fiction_genre', 'non_fiction_genre', 'non_fiction_genre', 'non_fiction_genre', 'non_fiction_genre', 'non_fiction_genre', 'non_fiction_genre', 'non_fiction_genre', 'non_fiction_genre', 'non_fiction_genre', 'non_fiction_genre', 'non_fiction_genre', 'non_fiction_genre', 'non_fiction_genre', 'non_fiction_genre', 'non_fiction_genre', 'non_fiction_genre', 'non_fiction_genre', 'non_fiction_genre', 'non_fiction_genre', 'non_fiction_genre', 'non_fiction_genre', 'non_fiction_genre', 'non_fiction_genre', 'non_fiction_genre', 'non_fiction_genre', 'non_fiction_genre', 'non_fiction_genre', 'non_fiction_genre', 'non_fiction_genre', 'non_fiction_genre', 'non_fiction_genre', 'non_fiction_genre', 'non_fiction_genre', 'non_fiction_genre', 'non_fiction_genre', 'non_fiction_genre', 'non_fiction_genre', 'non_fiction_genre', 'non_fiction_genre', 'non_fiction_genre', 'non_fiction_genre', 'non_fiction_genre', 'non_fiction_genre', 'non_fiction_genre', 'non_fiction_genre', 'non_fiction_genre', 'non_fiction_genre', 'non_fiction_genre', 'non_fiction_genre', 'non_fiction_genre', 'non_fiction_genre', 'non_fiction_genre', 'non_fiction_genre', 'non_fiction_genre', 'non_fiction_genre', 'non_fiction_genre', 'non_fiction_genre', 'non_fiction_genre', 'non_fiction_genre', 'non_fiction_genre', 'non_fiction_genre', 'non_fiction_genre', 'non_fiction_genre', 'non_fiction_genre', 'non_fiction_genre', 'non_fiction_genre', 'non_fiction_genre', 'non_fiction_genre', 'non_fiction_genre', 'non_fiction_genre', 'non_fiction_genre', 'non_fiction_genre', 'non_fiction_genre', 'non_fiction_genre', 'non_fiction_genre', 'non_fiction_genre', 'non_fiction_genre', 'non_fiction_genre', 'non_fiction_genre', 'non_fiction_genre', 'non_fiction_genre', 'non_fiction_genre', 'non_fiction_genre', 'non_fiction_genre', 'non_fiction_genre', 'non_fiction_genre', 'non_fiction_genre', 'non_fiction_genre', 'non_fiction_genre', 'non_fiction_genre', 'non_fiction_genre', 'non_fiction_genre', 'non_fiction_genre', 'non_fiction_genre', 'non_fiction_genre', 'non_fiction_genre', 'non_fiction_genre', 'non_fiction_genre', 'non_fiction_genre', 'non_fiction_genre', 'non_fiction_genre', 'non_fiction_genre', 'non_fiction_genre', 'non_fiction_genre', 'non_fiction_genre', 'non_fiction_genre', 'non_fiction_genre', 'non_fiction_genre', 'non_fiction_genre', 'non_fiction_genre', 'non_fiction_genre', 'non_fiction_genre', 'non_fiction_genre', 'non_fiction_genre', 'non_fiction_genre', 'non_fiction_genre', 'non_fiction_genre', 'non_fiction_genre', 'non_fiction_genre', 'non_fiction_genre', 'non_fiction_genre', 'non_fiction_genre', 'non_fiction_genre', 'non_fiction_genre', 'non_fiction_genre', 'non_fiction_genre', 'non_fiction_genre', 'non_fiction_genre', 'non_fiction_genre', 'non_fiction_genre', 'non_fiction_genre', 'non_fiction_genre', 'non_fiction_genre', 'non_fiction_genre', 'non_fiction_genre', 'non_fiction_genre', 'non_fiction_genre', 'non_fiction_genre', 'non_fiction_genre', 'non_fiction_genre', 'non_fiction_genre', 'non_fiction_genre', 'non_fiction_genre', 'non_fiction_genre', 'non_fiction_genre', 'non_fiction_genre', 'non_fiction_genre', 'non_fiction_genre', 'non_fiction_genre', 'non_fiction_genre', 'non_fiction_genre', 'non_fiction_genre', 'non_fiction_genre', 'non_fiction_genre', 'non_fiction_genre', 'non_fiction_genre', 'non_fiction_genre', 'non_fiction_genre', 'non_fiction_genre', 'non_fiction_genre', 'non_fiction_genre', 'non_fiction_genre', 'non_fiction_genre', 'non_fiction_genre', 'non_fiction_genre', 'non_fiction_genre', 'non_fiction_genre', 'non_fiction_genre', 'non_fiction_genre', 'non_fiction_genre', 'non_fiction_genre', 'non_fiction_genre', 'non_fiction_genre', 'non_fiction_genre', 'non_fiction_genre', 'non_fiction_genre', 'non_fiction_genre', 'non_fiction_genre', 'non_fiction_genre', 'non_fiction_genre', 'non_fiction_genre', 'non_fiction_genre', 'non_fiction_genre', 'non_fiction_genre', 'non_fiction_genre', 'non_fiction_genre', 'non_fiction_genre', 'non_fiction_genre', 'non_fiction_genre', 'non_fiction_genre', 'non_fiction_genre', 'non_fiction_genre', 'non_fiction_genre', 'non_fiction_genre', 'non_fiction_genre', 'non_fiction_genre', 'non_fiction_genre', 'non_fiction_genre', 'non_fiction_genre', 'non_fiction_genre', 'non_fiction_genre', 'non_fiction_genre', 'non_fiction_genre', 'non_fiction_genre', 'non_fiction_genre', 'non_fiction_genre', 'non_fiction_genre', 'non_fiction_genre', 'non_fiction_genre', 'non_fiction_genre', 'non_fiction_genre', 'non_fiction_genre', 'non_fiction_genre', 'non_fiction_genre', 'non_fiction_genre', 'non_fiction_genre', 'non_fiction_genre', 'non_fiction_genre', 'non_fiction_genre', 'non_fiction_genre', 'non_fiction_genre', 'non_fiction_genre', 'non_fiction_genre', 'non_fiction_genre', 'non_fiction_genre', 'non_fiction_genre', 'non_fiction_genre', 'non_fiction_genre', 'non_fiction_genre', 'non_fiction_genre', 'non_fiction_genre', 'non_fiction_genre', 'non_fiction_genre', 'non_fiction_genre', 'non_fiction_genre', 'non_fiction_genre', 'non_fiction_genre', 'non_fiction_genre', 'non_fiction_genre', 'non_fiction_genre', 'non_fiction_genre', 'non_fiction_genre', 'non_fiction_genre', 'non_fiction_genre', 'non_fiction_genre', 'non_fiction_genre', 'non_fiction_genre', 'non_fiction_genre', 'non_fiction_genre', 'non_fiction_genre', 'non_fiction_genre', 'non_fiction_genre', 'non_fiction_genre', 'non_fiction_genre', 'non_fiction_genre', 'non_fiction_genre', 'non_fiction_genre', 'non_fiction_genre', 'non_fiction_genre', 'non_fiction_genre', 'non_fiction_genre', 'non_fiction_genre', 'non_fiction_genre', 'non_fiction_genre', 'non_fiction_genre', 'non_fiction_genre', 'non_fiction_genre', 'non_fiction_genre', 'non_fiction_genre', 'non_fiction_genre', 'non_fiction_genre', 'non_fiction_genre', 'non_fiction_genre', 'non_fiction_genre', 'non_fiction_genre', 'non_fiction_genre', 'non_fiction_genre', 'non_fiction_genre', 'non_fiction_genre', 'non_fiction_genre', 'non_fiction_genre', 'non_fiction_genre', 'non_fiction_genre', 'non_fiction_genre', 'non_fiction_genre', 'non_fiction_genre', 'non_fiction_genre', 'non_fiction_genre', 'non_fiction_genre', 'non_fiction_genre', 'non_fiction_genre', 'non_fiction_genre', 'non_fiction_genre', 'non_fiction_genre', 'non_fiction_genre', 'non_fiction_genre', 'non_fiction_genre', 'non_fiction_genre', 'non_fiction_genre', 'non_fiction_genre', 'non_fiction_genre', 'non_fiction_genre', 'non_fiction_genre', 'non_fiction_genre', 'non_fiction_genre', 'non_fiction_genre', 'non_fiction_genre', 'non_fiction_genre', 'non_fiction_genre', 'non_fiction_genre', 'non_fiction_genre', 'non_fiction_genre', 'non_fiction_genre', 'non_fiction_genre', 'non_fiction_genre', 'non_fiction_genre', 'non_fiction_genre', 'non_fiction_genre', 'non_fiction_genre', 'non_fiction_genre', 'non_fiction_genre', 'non_fiction_genre', 'non_fiction_genre', 'non_fiction_genre', 'non_fiction_genre', 'non_fiction_genre', 'non_fiction_genre', 'non_fiction_genre', 'non_fiction_genre', 'non_fiction_genre', 'non_fiction_genre', 'non_fiction_genre', 'non_fiction_genre', 'non_fiction_genre', 'non_fiction_genre', 'non_fiction_genre', 'non_fiction_genre', 'non_fiction_genre', 'non_fiction_genre', 'non_fiction_genre', 'non_fiction_genre', 'non_fiction_genre', 'non_fiction_genre', 'non_fiction_genre', 'non_fiction_genre', 'non_fiction_genre', 'non_fiction_genre', 'non_fiction_genre', 'non_fiction_genre', 'non_fiction_genre', 'non_fiction_genre', 'non_fiction_genre', 'non_fiction_genre', 'non_fiction_genre', 'non_fiction_genre', 'non_fiction_genre', 'non_fiction_genre', 'non_fiction_genre', 'non_fiction_genre', 'non_fiction_genre', 'non_fiction_genre', 'non_fiction_genre', 'non_fiction_genre', 'non_fiction_genre', 'non_fiction_genre', 'non_fiction_genre', 'non_fiction_genre', 'non_fiction_genre', 'non_fiction_genre', 'non_fiction_genre', 'non_fiction_genre', 'non_fiction_genre', 'non_fiction_genre', 'non_fiction_genre', 'non_fiction_genre', 'non_fiction_genre', 'non_fiction_genre', 'non_fiction_genre', 'non_fiction_genre', 'non_fiction_genre', 'non_fiction_genre', 'non_fiction_genre', 'non_fiction_genre', 'non_fiction_genre', 'non_fiction_genre', 'non_fiction_genre', 'non_fiction_genre', 'non_fiction_genre', 'non_fiction_genre', 'non_fiction_genre', 'non_fiction_genre', 'non_fiction_genre', 'non_fiction_genre', 'non_fiction_genre', 'non_fiction_genre', 'non_fiction_genre', 'non_fiction_genre', 'non_fiction_genre', 'non_fiction_genre', 'non_fiction_genre', 'non_fiction_genre', 'non_fiction_genre', 'non_fiction_genre', 'non_fiction_genre', 'non_fiction_genre', 'non_fiction_genre', 'non_fiction_genre', 'non_fiction_genre', 'non_fiction_genre', 'non_fiction_genre', 'non_fiction_genre', 'non_fiction_genre', 'non_fiction_genre', 'non_fiction_genre', 'non_fiction_genre', 'non_fiction_genre', 'non_fiction_genre', 'non_fiction_genre', 'non_fiction_genre', 'non_fiction_genre', 'non_fiction_genre', 'non_fiction_genre', 'non_fiction_genre', 'non_fiction_genre', 'non_fiction_genre', 'non_fiction_genre', 'non_fiction_genre', 'non_fiction_genre', 'non_fiction_genre', 'non_fiction_genre', 'non_fiction_genre', 'non_fiction_genre', 'non_fiction_genre', 'non_fiction_genre', 'non_fiction_genre', 'non_fiction_genre', 'non_fiction_genre', 'non_fiction_genre', 'non_fiction_genre', 'non_fiction_genre', 'non_fiction_genre', 'non_fiction_genre', 'non_fiction_genre', 'non_fiction_genre', 'non_fiction_genre', 'non_fiction_genre', 'non_fiction_genre', 'non_fiction_genre', 'non_fiction_genre', 'non_fiction_genre', 'non_fiction_genre', 'non_fiction_genre', 'non_fiction_genre', 'non_fiction_genre', 'non_fiction_genre', 'non_fiction_genre', 'non_fiction_genre', 'non_fiction_genre', 'non_fiction_genre', 'non_fiction_genre', 'non_fiction_genre', 'non_fiction_genre', 'non_fiction_genre', 'non_fiction_genre', 'non_fiction_genre', 'non_fiction_genre', 'non_fiction_genre', 'non_fiction_genre', 'non_fiction_genre', 'non_fiction_genre', 'non_fiction_genre', 'non_fiction_genre', 'non_fiction_genre', 'non_fiction_genre', 'non_fiction_genre', 'non_fiction_genre', 'non_fiction_genre', 'non_fiction_genre', 'non_fiction_genre', 'non_fiction_genre', 'non_fiction_genre', 'non_fiction_genre', 'non_fiction_genre', 'non_fiction_genre', 'non_fiction_genre', 'non_fiction_genre', 'non_fiction_genre', 'non_fiction_genre', 'non_fiction_genre', 'non_fiction_genre', 'non_fiction_genre', 'non_fiction_genre', 'non_fiction_genre', 'non_fiction_genre', 'non_fiction_genre', 'non_fiction_genre', 'non_fiction_genre', 'non_fiction_genre', 'non_fiction_genre', 'non_fiction_genre', 'non_fiction_genre', 'non_fiction_genre', 'non_fiction_genre', 'non_fiction_genre', 'non_fiction_genre', 'non_fiction_genre', 'non_fiction_genre', 'non_fiction_genre', 'non_fiction_genre', 'non_fiction_genre', 'non_fiction_genre', 'non_fiction_genre', 'non_fiction_genre', 'non_fiction_genre', 'non_fiction_genre', 'non_fiction_genre', 'non_fiction_genre', 'non_fiction_genre', 'non_fiction_genre', 'non_fiction_genre', 'non_fiction_genre', 'non_fiction_genre', 'non_fiction_genre', 'non_fiction_genre', 'non_fiction_genre', 'non_fiction_genre', 'non_fiction_genre', 'non_fiction_genre', 'non_fiction_genre', 'non_fiction_genre', 'non_fiction_genre', 'non_fiction_genre', 'non_fiction_genre', 'non_fiction_genre', 'non_fiction_genre', 'non_fiction_genre', 'non_fiction_genre', 'non_fiction_genre', 'non_fiction_genre', 'non_fiction_genre', 'non_fiction_genre', 'non_fiction_genre', 'non_fiction_genre', 'non_fiction_genre', 'non_fiction_genre', 'non_fiction_genre', 'non_fiction_genre', 'non_fiction_genre', 'fiction_genre', 'fiction_genre', 'fiction_genre', 'fiction_genre', 'fiction_genre', 'fiction_genre', 'fiction_genre', 'fiction_genre', 'fiction_genre', 'fiction_genre', 'fiction_genre', 'fiction_genre', 'fiction_genre', 'fiction_genre', 'fiction_genre', 'fiction_genre', 'fiction_genre', 'fiction_genre', 'fiction_genre', 'fiction_genre', 'fiction_genre', 'fiction_genre', 'fiction_genre', 'fiction_genre', 'fiction_genre', 'fiction_genre', 'fiction_genre', 'fiction_genre', 'fiction_genre', 'fiction_genre', 'fiction_genre', 'fiction_genre', 'fiction_genre', 'fiction_genre', 'fiction_genre', 'fiction_genre', 'fiction_genre', 'fiction_genre', 'fiction_genre', 'fiction_genre', 'fiction_genre', 'fiction_genre', 'fiction_genre', 'fiction_genre', 'fiction_genre', 'fiction_genre', 'fiction_genre', 'fiction_genre', 'fiction_genre', 'fiction_genre', 'fiction_genre', 'fiction_genre', 'fiction_genre', 'fiction_genre', 'fiction_genre', 'fiction_genre', 'fiction_genre', 'fiction_genre', 'fiction_genre', 'fiction_genre', 'fiction_genre', 'fiction_genre', 'fiction_genre', 'fiction_genre', 'fiction_genre', 'fiction_genre', 'fiction_genre', 'fiction_genre', 'fiction_genre', 'fiction_genre', 'fiction_genre', 'fiction_genre', 'fiction_genre', 'fiction_genre', 'fiction_genre', 'fiction_genre', 'fiction_genre', 'fiction_genre', 'fiction_genre', 'fiction_genre', 'fiction_genre', 'fiction_genre', 'fiction_genre', 'fiction_genre', 'fiction_genre', 'fiction_genre', 'fiction_genre', 'fiction_genre', 'fiction_genre', 'fiction_genre', 'fiction_genre', 'fiction_genre', 'fiction_genre', 'fiction_genre', 'fiction_genre', 'fiction_genre', 'fiction_genre', 'fiction_genre', 'fiction_genre', 'fiction_genre', 'fiction_genre', 'fiction_genre', 'fiction_genre', 'fiction_genre', 'fiction_genre', 'fiction_genre', 'fiction_genre', 'fiction_genre', 'fiction_genre', 'fiction_genre', 'fiction_genre', 'fiction_genre', 'fiction_genre', 'fiction_genre', 'fiction_genre', 'fiction_genre', 'fiction_genre', 'fiction_genre', 'fiction_genre', 'fiction_genre', 'fiction_genre', 'fiction_genre', 'fiction_genre', 'fiction_genre', 'fiction_genre', 'fiction_genre', 'fiction_genre', 'fiction_genre', 'fiction_genre', 'fiction_genre', 'fiction_genre', 'fiction_genre', 'fiction_genre', 'fiction_genre', 'fiction_genre', 'fiction_genre', 'fiction_genre', 'fiction_genre', 'fiction_genre', 'fiction_genre', 'fiction_genre', 'fiction_genre', 'fiction_genre', 'fiction_genre', 'fiction_genre', 'fiction_genre', 'fiction_genre', 'fiction_genre', 'fiction_genre', 'fiction_genre', 'fiction_genre', 'fiction_genre', 'fiction_genre', 'fiction_genre', 'fiction_genre', 'fiction_genre', 'fiction_genre', 'fiction_genre', 'fiction_genre', 'fiction_genre', 'fiction_genre', 'non_fiction_genre', 'non_fiction_genre', 'non_fiction_genre', 'non_fiction_genre', 'non_fiction_genre', 'non_fiction_genre', 'non_fiction_genre', 'non_fiction_genre', 'non_fiction_genre', 'non_fiction_genre', 'non_fiction_genre', 'non_fiction_genre', 'non_fiction_genre', 'non_fiction_genre', 'non_fiction_genre', 'non_fiction_genre', 'non_fiction_genre', 'non_fiction_genre', 'non_fiction_genre', 'non_fiction_genre', 'non_fiction_genre', 'non_fiction_genre', 'non_fiction_genre', 'non_fiction_genre', 'non_fiction_genre', 'non_fiction_genre', 'non_fiction_genre', 'non_fiction_genre', 'non_fiction_genre', 'non_fiction_genre', 'non_fiction_genre', 'non_fiction_genre', 'non_fiction_genre', 'non_fiction_genre', 'non_fiction_genre', 'non_fiction_genre', 'non_fiction_genre', 'non_fiction_genre', 'non_fiction_genre', 'non_fiction_genre', 'non_fiction_genre', 'non_fiction_genre', 'non_fiction_genre', 'non_fiction_genre', 'non_fiction_genre', 'non_fiction_genre', 'non_fiction_genre', 'non_fiction_genre', 'non_fiction_genre', 'non_fiction_genre', 'non_fiction_genre', 'non_fiction_genre', 'non_fiction_genre', 'non_fiction_genre', 'non_fiction_genre', 'non_fiction_genre', 'non_fiction_genre', 'non_fiction_genre', 'non_fiction_genre', 'non_fiction_genre', 'non_fiction_genre', 'non_fiction_genre', 'non_fiction_genre', 'non_fiction_genre', 'non_fiction_genre', 'non_fiction_genre', 'non_fiction_genre', 'non_fiction_genre', 'non_fiction_genre', 'non_fiction_genre', 'non_fiction_genre', 'non_fiction_genre', 'non_fiction_genre', 'non_fiction_genre', 'non_fiction_genre', 'non_fiction_genre', 'non_fiction_genre', 'non_fiction_genre', 'non_fiction_genre', 'non_fiction_genre', 'non_fiction_genre', 'non_fiction_genre', 'non_fiction_genre', 'non_fiction_genre', 'non_fiction_genre', 'non_fiction_genre', 'non_fiction_genre', 'non_fiction_genre', 'non_fiction_genre', 'non_fiction_genre', 'non_fiction_genre', 'non_fiction_genre', 'non_fiction_genre', 'non_fiction_genre', 'non_fiction_genre', 'non_fiction_genre', 'non_fiction_genre', 'non_fiction_genre', 'non_fiction_genre', 'non_fiction_genre', 'non_fiction_genre', 'non_fiction_genre', 'non_fiction_genre', 'non_fiction_genre', 'non_fiction_genre', 'non_fiction_genre', 'non_fiction_genre', 'non_fiction_genre', 'non_fiction_genre', 'non_fiction_genre', 'non_fiction_genre', 'non_fiction_genre', 'non_fiction_genre', 'non_fiction_genre', 'non_fiction_genre', 'non_fiction_genre', 'non_fiction_genre', 'non_fiction_genre', 'non_fiction_genre', 'non_fiction_genre', 'non_fiction_genre', 'non_fiction_genre', 'non_fiction_genre', 'non_fiction_genre', 'non_fiction_genre', 'non_fiction_genre', 'non_fiction_genre', 'non_fiction_genre', 'non_fiction_genre', 'non_fiction_genre', 'non_fiction_genre', 'non_fiction_genre', 'non_fiction_genre', 'non_fiction_genre', 'non_fiction_genre', 'non_fiction_genre', 'non_fiction_genre', 'non_fiction_genre', 'non_fiction_genre', 'non_fiction_genre', 'non_fiction_genre', 'non_fiction_genre', 'non_fiction_genre', 'non_fiction_genre', 'non_fiction_genre', 'non_fiction_genre', 'non_fiction_genre', 'non_fiction_genre', 'non_fiction_genre', 'non_fiction_genre', 'non_fiction_genre', 'non_fiction_genre', 'non_fiction_genre', 'non_fiction_genre', 'non_fiction_genre', 'non_fiction_genre', 'non_fiction_genre', 'non_fiction_genre', 'non_fiction_genre', 'non_fiction_genre', 'non_fiction_genre', 'non_fiction_genre', 'non_fiction_genre', 'non_fiction_genre', 'non_fiction_genre', 'non_fiction_genre', 'non_fiction_genre', 'non_fiction_genre', 'non_fiction_genre', 'non_fiction_genre', 'non_fiction_genre', 'non_fiction_genre', 'non_fiction_genre', 'non_fiction_genre', 'non_fiction_genre', 'non_fiction_genre', 'non_fiction_genre', 'non_fiction_genre', 'non_fiction_genre', 'non_fiction_genre', 'non_fiction_genre', 'non_fiction_genre', 'non_fiction_genre', 'non_fiction_genre', 'non_fiction_genre', 'non_fiction_genre', 'non_fiction_genre', 'non_fiction_genre', 'non_fiction_genre', 'non_fiction_genre', 'non_fiction_genre', 'non_fiction_genre', 'non_fiction_genre', 'non_fiction_genre', 'non_fiction_genre', 'non_fiction_genre', 'non_fiction_genre', 'non_fiction_genre', 'non_fiction_genre', 'non_fiction_genre', 'non_fiction_genre', 'non_fiction_genre', 'non_fiction_genre', 'non_fiction_genre', 'non_fiction_genre', 'non_fiction_genre', 'non_fiction_genre', 'non_fiction_genre', 'non_fiction_genre', 'non_fiction_genre', 'non_fiction_genre', 'non_fiction_genre', 'non_fiction_genre', 'non_fiction_genre', 'non_fiction_genre', 'non_fiction_genre', 'non_fiction_genre', 'non_fiction_genre', 'non_fiction_genre', 'non_fiction_genre', 'non_fiction_genre', 'non_fiction_genre', 'non_fiction_genre', 'non_fiction_genre', 'non_fiction_genre', 'non_fiction_genre', 'non_fiction_genre', 'non_fiction_genre', 'non_fiction_genre', 'non_fiction_genre', 'non_fiction_genre', 'non_fiction_genre', 'non_fiction_genre', 'non_fiction_genre', 'non_fiction_genre', 'non_fiction_genre', 'non_fiction_genre', 'non_fiction_genre', 'non_fiction_genre', 'non_fiction_genre', 'non_fiction_genre', 'non_fiction_genre', 'non_fiction_genre', 'non_fiction_genre', 'non_fiction_genre', 'non_fiction_genre', 'non_fiction_genre', 'non_fiction_genre', 'non_fiction_genre', 'non_fiction_genre', 'non_fiction_genre', 'non_fiction_genre', 'non_fiction_genre', 'non_fiction_genre', 'non_fiction_genre', 'non_fiction_genre', 'non_fiction_genre', 'non_fiction_genre', 'non_fiction_genre', 'non_fiction_genre', 'non_fiction_genre', 'non_fiction_genre', 'non_fiction_genre', 'non_fiction_genre', 'non_fiction_genre', 'non_fiction_genre', 'non_fiction_genre', 'non_fiction_genre', 'non_fiction_genre', 'non_fiction_genre', 'non_fiction_genre', 'non_fiction_genre', 'non_fiction_genre', 'non_fiction_genre', 'non_fiction_genre', 'non_fiction_genre', 'non_fiction_genre', 'non_fiction_genre', 'non_fiction_genre', 'non_fiction_genre', 'non_fiction_genre', 'non_fiction_genre', 'non_fiction_genre', 'non_fiction_genre', 'non_fiction_genre', 'non_fiction_genre', 'non_fiction_genre', 'non_fiction_genre', 'non_fiction_genre', 'non_fiction_genre', 'non_fiction_genre', 'non_fiction_genre', 'non_fiction_genre', 'non_fiction_genre', 'non_fiction_genre', 'non_fiction_genre', 'non_fiction_genre', 'non_fiction_genre', 'non_fiction_genre', 'non_fiction_genre', 'non_fiction_genre', 'non_fiction_genre', 'non_fiction_genre', 'non_fiction_genre', 'non_fiction_genre', 'non_fiction_genre', 'non_fiction_genre', 'non_fiction_genre', 'non_fiction_genre', 'non_fiction_genre', 'non_fiction_genre', 'non_fiction_genre', 'non_fiction_genre', 'non_fiction_genre', 'non_fiction_genre', 'non_fiction_genre', 'non_fiction_genre', 'non_fiction_genre', 'non_fiction_genre', 'non_fiction_genre', 'non_fiction_genre', 'non_fiction_genre', 'non_fiction_genre', 'non_fiction_genre', 'non_fiction_genre', 'non_fiction_genre', 'non_fiction_genre', 'non_fiction_genre', 'non_fiction_genre', 'non_fiction_genre', 'non_fiction_genre', 'non_fiction_genre', 'non_fiction_genre', 'non_fiction_genre', 'non_fiction_genre', 'non_fiction_genre', 'non_fiction_genre', 'non_fiction_genre', 'non_fiction_genre', 'non_fiction_genre', 'non_fiction_genre', 'non_fiction_genre', 'non_fiction_genre', 'non_fiction_genre', 'non_fiction_genre', 'non_fiction_genre', 'non_fiction_genre', 'non_fiction_genre', 'non_fiction_genre', 'non_fiction_genre', 'non_fiction_genre', 'non_fiction_genre', 'non_fiction_genre', 'non_fiction_genre', 'non_fiction_genre', 'non_fiction_genre', 'non_fiction_genre', 'non_fiction_genre', 'non_fiction_genre', 'non_fiction_genre', 'non_fiction_genre', 'non_fiction_genre', 'non_fiction_genre', 'non_fiction_genre', 'non_fiction_genre', 'non_fiction_genre', 'non_fiction_genre', 'non_fiction_genre', 'non_fiction_genre', 'non_fiction_genre', 'non_fiction_genre', 'non_fiction_genre', 'non_fiction_genre', 'non_fiction_genre', 'non_fiction_genre', 'non_fiction_genre', 'non_fiction_genre', 'non_fiction_genre', 'non_fiction_genre', 'non_fiction_genre', 'non_fiction_genre', 'non_fiction_genre', 'non_fiction_genre', 'non_fiction_genre', 'non_fiction_genre', 'non_fiction_genre', 'non_fiction_genre', 'non_fiction_genre', 'non_fiction_genre', 'non_fiction_genre', 'non_fiction_genre', 'non_fiction_genre', 'non_fiction_genre', 'non_fiction_genre', 'non_fiction_genre', 'non_fiction_genre', 'non_fiction_genre', 'non_fiction_genre', 'non_fiction_genre', 'non_fiction_genre', 'non_fiction_genre', 'non_fiction_genre', 'non_fiction_genre', 'non_fiction_genre', 'non_fiction_genre', 'non_fiction_genre', 'non_fiction_genre', 'non_fiction_genre', 'non_fiction_genre', 'non_fiction_genre', 'non_fiction_genre', 'non_fiction_genre', 'non_fiction_genre', 'non_fiction_genre', 'non_fiction_genre', 'non_fiction_genre', 'non_fiction_genre', 'non_fiction_genre', 'non_fiction_genre', 'non_fiction_genre', 'non_fiction_genre', 'non_fiction_genre', 'non_fiction_genre', 'non_fiction_genre', 'non_fiction_genre', 'non_fiction_genre', 'non_fiction_genre', 'non_fiction_genre', 'non_fiction_genre', 'non_fiction_genre', 'non_fiction_genre', 'non_fiction_genre', 'non_fiction_genre', 'non_fiction_genre', 'non_fiction_genre', 'non_fiction_genre', 'non_fiction_genre', 'non_fiction_genre', 'non_fiction_genre', 'non_fiction_genre', 'non_fiction_genre', 'non_fiction_genre', 'non_fiction_genre', 'non_fiction_genre', 'non_fiction_genre', 'non_fiction_genre', 'non_fiction_genre', 'non_fiction_genre', 'non_fiction_genre', 'non_fiction_genre', 'non_fiction_genre', 'non_fiction_genre', 'non_fiction_genre', 'non_fiction_genre', 'non_fiction_genre', 'non_fiction_genre', 'non_fiction_genre', 'non_fiction_genre', 'non_fiction_genre', 'non_fiction_genre', 'non_fiction_genre', 'non_fiction_genre', 'non_fiction_genre', 'non_fiction_genre', 'non_fiction_genre', 'non_fiction_genre', 'non_fiction_genre', 'non_fiction_genre', 'non_fiction_genre', 'non_fiction_genre', 'non_fiction_genre', 'non_fiction_genre', 'non_fiction_genre', 'non_fiction_genre', 'non_fiction_genre', 'non_fiction_genre', 'non_fiction_genre', 'non_fiction_genre', 'non_fiction_genre', 'non_fiction_genre', 'non_fiction_genre', 'non_fiction_genre', 'non_fiction_genre', 'non_fiction_genre', 'non_fiction_genre', 'non_fiction_genre', 'non_fiction_genre', 'non_fiction_genre', 'non_fiction_genre', 'non_fiction_genre', 'non_fiction_genre', 'non_fiction_genre', 'non_fiction_genre', 'non_fiction_genre', 'non_fiction_genre', 'non_fiction_genre', 'non_fiction_genre', 'non_fiction_genre', 'non_fiction_genre', 'non_fiction_genre', 'non_fiction_genre', 'non_fiction_genre', 'non_fiction_genre', 'non_fiction_genre', 'non_fiction_genre', 'non_fiction_genre', 'non_fiction_genre', 'non_fiction_genre', 'non_fiction_genre', 'non_fiction_genre', 'non_fiction_genre', 'non_fiction_genre', 'non_fiction_genre', 'non_fiction_genre', 'non_fiction_genre', 'non_fiction_genre', 'non_fiction_genre', 'non_fiction_genre', 'non_fiction_genre', 'non_fiction_genre', 'non_fiction_genre', 'non_fiction_genre', 'non_fiction_genre', 'non_fiction_genre', 'non_fiction_genre', 'non_fiction_genre', 'non_fiction_genre', 'non_fiction_genre', 'non_fiction_genre', 'non_fiction_genre', 'non_fiction_genre', 'non_fiction_genre', 'non_fiction_genre', 'non_fiction_genre', 'non_fiction_genre', 'non_fiction_genre', 'non_fiction_genre', 'non_fiction_genre', 'non_fiction_genre', 'non_fiction_genre', 'non_fiction_genre', 'non_fiction_genre', 'non_fiction_genre', 'non_fiction_genre', 'non_fiction_genre', 'non_fiction_genre', 'non_fiction_genre', 'non_fiction_genre', 'non_fiction_genre', 'non_fiction_genre', 'non_fiction_genre', 'non_fiction_genre', 'non_fiction_genre', 'non_fiction_genre', 'non_fiction_genre', 'non_fiction_genre', 'non_fiction_genre', 'non_fiction_genre', 'non_fiction_genre', 'non_fiction_genre', 'non_fiction_genre', 'non_fiction_genre', 'non_fiction_genre', 'non_fiction_genre', 'non_fiction_genre', 'non_fiction_genre', 'non_fiction_genre', 'non_fiction_genre', 'non_fiction_genre', 'non_fiction_genre', 'non_fiction_genre', 'non_fiction_genre', 'non_fiction_genre', 'non_fiction_genre', 'non_fiction_genre', 'non_fiction_genre', 'non_fiction_genre', 'non_fiction_genre', 'non_fiction_genre', 'non_fiction_genre', 'non_fiction_genre', 'non_fiction_genre', 'non_fiction_genre', 'non_fiction_genre', 'non_fiction_genre', 'non_fiction_genre', 'non_fiction_genre', 'non_fiction_genre', 'non_fiction_genre', 'non_fiction_genre', 'non_fiction_genre', 'non_fiction_genre', 'non_fiction_genre', 'non_fiction_genre', 'non_fiction_genre', 'non_fiction_genre', 'non_fiction_genre', 'non_fiction_genre', 'non_fiction_genre', 'non_fiction_genre', 'non_fiction_genre', 'non_fiction_genre', 'non_fiction_genre']\n"
     ]
    }
   ],
   "source": [
    "# storing labels of each paragraph\n",
    "df_label = {k: f.groupby('para_id')['label'].apply(list).to_dict()\n",
    "     for k, f in df.groupby('filename')}\n",
    "\n",
    "class_label = []\n",
    "for file_id, filename in df_label.items():\n",
    "    for para_id, label in filename.items():\n",
    "            class_label.append(label[0])\n",
    "            \n",
    "print(class_label)\n",
    "\n",
    "pd.DataFrame(class_label, columns= ['label']).to_csv(\"labels.csv\")"
   ]
  },
  {
   "cell_type": "markdown",
   "metadata": {},
   "source": [
    "# 2. Data Pre-Processing"
   ]
  },
  {
   "cell_type": "code",
   "execution_count": null,
   "metadata": {},
   "outputs": [],
   "source": [
    "# removing punctuation\n",
    "import string\n",
    "\n",
    "def remove_punctuation(text):\n",
    "    no_punct=[words for words in text if words not in string.punctuation]\n",
    "    words_wo_punct=''.join(no_punct)\n",
    "    return words_wo_punct\n",
    "\n",
    "df['tokenized_text_wo_punct'] =  df['tokenized_text'].apply(lambda x: remove_punctuation(x))\n",
    "\n",
    "df"
   ]
  },
  {
   "cell_type": "code",
   "execution_count": null,
   "metadata": {},
   "outputs": [],
   "source": [
    "# POS Tagging, Dependency and Constituency Parsing is done before Feature Extraction in next step"
   ]
  },
  {
   "cell_type": "markdown",
   "metadata": {},
   "source": [
    "# 3. Feature Extraction"
   ]
  },
  {
   "cell_type": "code",
   "execution_count": null,
   "metadata": {},
   "outputs": [],
   "source": [
    "from feature_calculation.feature import Features\n",
    "\n",
    "# calling Features class from feature_extraction.py\n",
    "features = Features()\n",
    "\n",
    "# creating sentence list for each paragraph\n",
    "df_dict = {k: f.groupby('para_id')['tokenized_text_wo_punct'].apply(list).to_dict()\n",
    "     for k, f in df.groupby('filename')}\n",
    "\n",
    "# getting all features for each paragraph\n",
    "feature_list = []\n",
    "for file_id, filename in df_dict.items():\n",
    "    for para_id, sent_list in filename.items():\n",
    "            feature_list.append(features.get_all_features(sent_list))\n",
    "\n",
    "# saving the features in a new dataframe\n",
    "features = pd.DataFrame(feature_list)\n",
    "features.to_csv(\"extracted_features.csv\")"
   ]
  },
  {
   "cell_type": "markdown",
   "metadata": {},
   "source": [
    "# 4. Supervised Learning"
   ]
  },
  {
   "cell_type": "code",
   "execution_count": 18,
   "metadata": {},
   "outputs": [
    {
     "data": {
      "text/plain": [
       "array([[-1.73090413e+00, -5.15920127e-01,  8.45708430e-01, ...,\n",
       "         2.44245602e+00,  2.65705024e+00,  1.21032518e+00],\n",
       "       [-1.72861003e+00, -1.11890661e+00, -4.90638374e-01, ...,\n",
       "        -1.17373879e-03,  8.66951340e-01,  8.91626602e-01],\n",
       "       [-1.72631592e+00, -3.72351917e-01,  1.22138862e+00, ...,\n",
       "        -3.29106737e-01, -3.47758628e-01, -2.64016387e-01],\n",
       "       ...,\n",
       "       [ 1.72631592e+00,  9.96331683e-01,  2.72347042e+00, ...,\n",
       "        -1.64082389e-01, -2.51860472e-01,  5.14412878e-01],\n",
       "       [ 1.72861003e+00, -1.15719146e+00, -1.22499505e+00, ...,\n",
       "        -5.78758955e-01, -5.65127780e-01, -4.88563290e-01],\n",
       "       [ 1.73090413e+00, -1.46825592e+00, -1.39092222e+00, ...,\n",
       "        -5.68885703e-01, -4.75622835e-01, -1.49077587e+00]])"
      ]
     },
     "execution_count": 18,
     "metadata": {},
     "output_type": "execute_result"
    }
   ],
   "source": [
    "from sklearn.preprocessing import StandardScaler\n",
    "from sklearn.linear_model import LogisticRegression\n",
    "from sklearn.feature_selection import RFECV\n",
    "\n",
    "# calling the dataframe which will be used for training\n",
    "X = pd.read_csv(r'C:\\Users\\akank\\Dropbox\\My PC (LAPTOP-NQ9H8NTJ)\\Documents\\Sem 8\\Project\\code\\extracted_features.csv')\n",
    "y = pd.read_csv(r'C:\\Users\\akank\\Dropbox\\My PC (LAPTOP-NQ9H8NTJ)\\Documents\\Sem 8\\Project\\code\\labels.csv')\n",
    "X = X.fillna(0)\n",
    "\n",
    "# scaling data\n",
    "scaler = StandardScaler()\n",
    "scaled_data = scaler.fit(X)\n",
    "scaled_data = scaler.transform(X)\n",
    "\n",
    "scaled_data"
   ]
  },
  {
   "cell_type": "code",
   "execution_count": 20,
   "metadata": {},
   "outputs": [
    {
     "name": "stdout",
     "output_type": "stream",
     "text": [
      "Optimal number of features: 4\n",
      "Ranking of features (Selected features are given rank 1): [ 2  7  6  5 18 17  1 13  9 11 19  4  3 20 21 15 10  1  1 14  1  8 16 12]\n"
     ]
    }
   ],
   "source": [
    "# defining classifier\n",
    "clf = LogisticRegression(penalty = 'l1', solver= 'saga', max_iter = 1000)\n",
    "\n",
    "rfecv = RFECV(\n",
    "    estimator=clf,\n",
    "    step=1,\n",
    "    cv=10, \n",
    "    scoring= \"accuracy\",\n",
    "    n_jobs=2,\n",
    ")\n",
    "rfecv.fit(scaled_data, y.label)\n",
    "\n",
    "# printing results\n",
    "print(f\"Optimal number of features: {rfecv.n_features_}\")\n",
    "print(f\"Ranking of features (Selected features are given rank 1): {rfecv.ranking_}\")"
   ]
  },
  {
   "cell_type": "code",
   "execution_count": 21,
   "metadata": {},
   "outputs": [
    {
     "name": "stdout",
     "output_type": "stream",
     "text": [
      "Index(['Unnamed: 0', 'avg_sen_len', 'std_sen_len', 'TTR', 'Root TTR',\n",
      "       'Log TTR', 'Maas TTR', 'Msstr', 'Ma TTR', 'HDD', 'MTLD', 'MTLD MA',\n",
      "       'MTLD MA Bi', 'VocD', 'YulesK', 'adverb/adjective', 'adverb/noun',\n",
      "       'adverb/pronoun', 'adjective/verb', 'adjective/pronoun', 'noun/verb',\n",
      "       'noun/pronoun', 'verb/pronoun', 'content/function'],\n",
      "      dtype='object')\n",
      "['Maas TTR', 'adverb/pronoun', 'adjective/verb', 'noun/verb']\n"
     ]
    }
   ],
   "source": [
    "# visualising the result\n",
    "print(X.columns)\n",
    "\n",
    "optimal_features = []\n",
    "for i in range(len(X.columns)):\n",
    "    if((rfecv.ranking_[i])==1):\n",
    "        optimal_features.append(X.columns[i])\n",
    "print(optimal_features)"
   ]
  }
 ],
 "metadata": {
  "interpreter": {
   "hash": "34cec13c89c40dd88c713a1a8db97ddb97266fbed868a0da0c26f710eefcb48a"
  },
  "kernelspec": {
   "display_name": "Python 3.10.7 64-bit",
   "language": "python",
   "name": "python3"
  },
  "language_info": {
   "codemirror_mode": {
    "name": "ipython",
    "version": 3
   },
   "file_extension": ".py",
   "mimetype": "text/x-python",
   "name": "python",
   "nbconvert_exporter": "python",
   "pygments_lexer": "ipython3",
   "version": "3.10.10"
  },
  "orig_nbformat": 4
 },
 "nbformat": 4,
 "nbformat_minor": 2
}
